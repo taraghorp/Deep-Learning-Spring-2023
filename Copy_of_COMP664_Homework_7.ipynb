{
  "nbformat": 4,
  "nbformat_minor": 0,
  "metadata": {
    "colab": {
      "provenance": []
    },
    "kernelspec": {
      "name": "python3",
      "display_name": "Python 3"
    },
    "gpuClass": "standard",
    "accelerator": "GPU"
  },
  "cells": [
    {
      "cell_type": "markdown",
      "metadata": {
        "id": "t2hPDx3Tvh0v"
      },
      "source": [
        "# Homework 7\n",
        "\n",
        "In this homework you will be training and using a \"char-RNN\". This is the name given to a character-level recurrent neural network language model by [this famous blog post by Andrej Karpathy](http://karpathy.github.io/2015/05/21/rnn-effectiveness/). Before you start on the rest of the homework, please give the blog post a read, it's quite good!\n",
        "\n",
        "I don't expect you to implement the char-RNN from scratch. Andrej's original char-rnn is in Torch (the predecessor to PyTorch that is not commonly used anymore). Fortunately, there are many other implementations of this model available; for example, there is one (in both mxnet and pytorch) in chapters 8 and 9 of [the textbook](http://d2l.ai), and another pytorch one [here](https://github.com/spro/char-rnn.pytorch). **Please use one of these example implementations (or another one that you find) when completing this homework**.\n",
        "\n",
        "For this homework, please complete the following steps:\n",
        "\n",
        "1. Download and tokenize the [Shakespeare dataset](http://www.gutenberg.org/files/100/100-0.txt) at a character level. I recommend basing your solution on the following code:\n",
        "```Python\n",
        "# Remove non-alphabetical characters, lowercase, and replace whitespace with ' '\n",
        "raw_dataset = ' '.join(re.sub('[^A-Za-z ]+', '', text).lower().split())\n",
        "# Maps token index to character\n",
        "idx_to_char = list(set(raw_dataset))\n",
        "# Maps character to token index\n",
        "char_to_idx = dict([(char, i) for i, char in enumerate(idx_to_char)])\n",
        "# Tokenize the dataset\n",
        "corpus_indices = [char_to_idx[char] for char in raw_dataset]\n",
        "```\n",
        "1. Train a \"vanilla\" RNN (as described in chapter 8 of [the textbook](http://d2l.ai)) on the Shakespeare dataset. Report the training loss and generate some samples from the model at the end of training.\n",
        "1. Train a GRU RNN (as described in chapter 9 of [the textbook](http://d2l.ai)) on the Shakespeare datatset. Is the final training loss higher or lower than the vanilla RNN? Are the samples from the model more or less realistic?\n",
        "1. Find a smaller, simpler dataset than the Shakespeare data (you can find some ideas in Andrej's blog post, but feel free to get creative!) and train either the vanilla or GRU RNN on it instead. Is the final training loss higher or lower than it was for the Shakespeare data?"
      ]
    },
    {
      "cell_type": "code",
      "source": [
        "from google.colab import drive\n",
        "drive.mount('/content/drive', force_remount=True)\n",
        "import sys\n",
        "sys.path.insert(0,'/content/drive/My Drive/Colab Notebooks')\n",
        "import time\n",
        "import random\n",
        "import string\n",
        "import math\n",
        "import torch\n",
        "import torchtext.utils\n",
        "import torch.nn as nn\n",
        "import torch.nn.functional as F\n",
        "import torch.optim as optim\n",
        "from torch.utils.data import Dataset\n",
        "from torch.utils.data import DataLoader\n",
        "from torch.distributions import Categorical\n",
        "import torchvision\n",
        "import numpy as np\n",
        "import matplotlib.pyplot as plt\n",
        "import re\n",
        "\n",
        "all_characters = string.printable\n",
        "n_characters = len(all_characters)\n",
        "\n",
        "dataset_file_origin = 'https://storage.googleapis.com/download.tensorflow.org/data/shakespeare.txt'\n",
        "torchtext.utils.download_from_url(url=dataset_file_origin,root='data',overwrite=True)\n",
        "file = open('data/shakespeare.txt', mode='r').read()\n",
        "file_len = len(file)\n",
        "print('Length of text: {} characters'.format(len(file)))"
      ],
      "metadata": {
        "colab": {
          "base_uri": "https://localhost:8080/"
        },
        "id": "82djkwbcmvgD",
        "outputId": "c7747071-d84f-4f35-d1d7-c05fc4d57c6b"
      },
      "execution_count": 2,
      "outputs": [
        {
          "output_type": "stream",
          "name": "stdout",
          "text": [
            "Mounted at /content/drive\n"
          ]
        },
        {
          "output_type": "stream",
          "name": "stderr",
          "text": [
            "100%|██████████| 1.12M/1.12M [00:00<00:00, 108MB/s]"
          ]
        },
        {
          "output_type": "stream",
          "name": "stdout",
          "text": [
            "Length of text: 1115394 characters\n"
          ]
        },
        {
          "output_type": "stream",
          "name": "stderr",
          "text": [
            "\n"
          ]
        }
      ]
    },
    {
      "cell_type": "code",
      "source": [
        "device = torch.device(\"cuda:0\" if torch.cuda.is_available() else \"cpu\") "
      ],
      "metadata": {
        "id": "CxjSz6qsnIXY"
      },
      "execution_count": 3,
      "outputs": []
    },
    {
      "cell_type": "code",
      "source": [
        "chunk_len = 200\n",
        "\n",
        "def random_chunk():\n",
        "    start_index = random.randint(0, file_len - chunk_len)\n",
        "    end_index = start_index + chunk_len + 1\n",
        "    return file[start_index:end_index]\n",
        "\n",
        "print(random_chunk())"
      ],
      "metadata": {
        "colab": {
          "base_uri": "https://localhost:8080/"
        },
        "id": "QSklNw_9nU6g",
        "outputId": "6eaf7bde-642b-4b43-923e-fe92ccbd02cc"
      },
      "execution_count": 4,
      "outputs": [
        {
          "output_type": "stream",
          "name": "stdout",
          "text": [
            "er's bloody axe.\n",
            "Ah, Gaunt, his blood was thine! that bed, that womb,\n",
            "That metal, that self-mould, that fashion'd thee\n",
            "Made him a man; and though thou livest and breathest,\n",
            "Yet art thou slain in him: t\n"
          ]
        }
      ]
    },
    {
      "cell_type": "code",
      "source": [
        "import torch\n",
        "import torch.nn as nn\n",
        "from torch.autograd import Variable\n",
        "\n",
        "class GRU(nn.Module):\n",
        "    def __init__(self, input_size, hidden_size, output_size, n_layers=1):\n",
        "        super(GRU, self).__init__()\n",
        "        self.input_size = input_size\n",
        "        self.hidden_size = hidden_size\n",
        "        self.output_size = output_size\n",
        "        self.n_layers = n_layers\n",
        "        \n",
        "        self.encoder = nn.Embedding(input_size, hidden_size)\n",
        "        self.gru = nn.GRU(hidden_size, hidden_size, n_layers)\n",
        "        self.decoder = nn.Linear(hidden_size, output_size)\n",
        "    \n",
        "    def forward(self, input, hidden):\n",
        "        input = self.encoder(input.view(1, -1))\n",
        "        output, hidden = self.gru(input.view(1, 1, -1), hidden)\n",
        "        output = self.decoder(output.view(1, -1))\n",
        "        return output, hidden\n",
        "\n",
        "    def init_hidden(self):\n",
        "        return Variable(torch.zeros(self.n_layers, 1, self.hidden_size))"
      ],
      "metadata": {
        "id": "Bz9X9_A5ncgX"
      },
      "execution_count": 5,
      "outputs": []
    },
    {
      "cell_type": "markdown",
      "source": [
        "Vanilla RNN:"
      ],
      "metadata": {
        "id": "vqDpich3pPEP"
      }
    },
    {
      "cell_type": "code",
      "source": [
        "class Vanilla(nn.Module):\n",
        "    def __init__(self, input_size, hidden_size, output_size, n_layers=1):\n",
        "        super(Vanilla, self).__init__()\n",
        "        self.input_size = input_size\n",
        "        self.hidden_size = hidden_size\n",
        "        self.output_size = output_size\n",
        "        self.n_layers = n_layers\n",
        "        \n",
        "        self.encoder = nn.Embedding(input_size, hidden_size)\n",
        "        self.rnn = nn.RNN(input_size, hidden_size, n_layers, dropout=0.2, batch_first=True)\n",
        "        self.dropout = nn.Dropout(0.2)\n",
        "        self.decoder = nn.Linear(hidden_size, output_size)\n",
        "    \n",
        "    def forward(self, input, hidden):\n",
        "        input = self.encoder(input.view(1, -1))\n",
        "        r_output, hidden = self.rnn(input.view(1, 1, -1), hidden)\n",
        "        output = self.dropout(r_output)\n",
        "        output = self.decoder(output.view(1, -1))\n",
        "        return output, hidden\n",
        "\n",
        "    def init_hidden(self):\n",
        "        return Variable(torch.zeros(self.n_layers, 1, self.hidden_size))"
      ],
      "metadata": {
        "id": "Fd58QtGdndTt"
      },
      "execution_count": 6,
      "outputs": []
    },
    {
      "cell_type": "code",
      "source": [
        "# Turn string into list of longs\n",
        "def char_tensor(string):\n",
        "    tensor = torch.zeros(len(string)).long()\n",
        "    for c in range(len(string)):\n",
        "        tensor[c] = all_characters.index(string[c])\n",
        "    return Variable(tensor)"
      ],
      "metadata": {
        "id": "YNaotIZrngss"
      },
      "execution_count": 7,
      "outputs": []
    },
    {
      "cell_type": "code",
      "source": [
        "def random_training_set():    \n",
        "    chunk = random_chunk()\n",
        "    inp = char_tensor(chunk[:-1])\n",
        "    target = char_tensor(chunk[1:])\n",
        "    \n",
        "    return inp, target"
      ],
      "metadata": {
        "id": "S7Wuiq23njYR"
      },
      "execution_count": 8,
      "outputs": []
    },
    {
      "cell_type": "code",
      "source": [
        "def evaluate(prime_str='A', predict_len=100, temperature=0.8):\n",
        "    hidden = decoder.init_hidden()\n",
        "    prime_input = char_tensor(prime_str)\n",
        "    predicted = prime_str\n",
        "\n",
        "    # Use priming string to \"build up\" hidden state\n",
        "    for p in range(len(prime_str) - 1):\n",
        "        _, hidden = decoder(prime_input[p], hidden)\n",
        "    inp = prime_input[-1]\n",
        "    \n",
        "    for p in range(predict_len):\n",
        "        output, hidden = decoder(inp, hidden)\n",
        "        \n",
        "        # Sample from the network as a multinomial distribution\n",
        "        output_dist = output.data.view(-1).div(temperature).exp()\n",
        "        top_i = torch.multinomial(output_dist, 1)[0]\n",
        "        \n",
        "        # Add predicted character to string and use as next input\n",
        "        predicted_char = all_characters[top_i]\n",
        "        predicted += predicted_char\n",
        "        inp = char_tensor(predicted_char)\n",
        "\n",
        "    return predicted"
      ],
      "metadata": {
        "id": "i9M861hcnloE"
      },
      "execution_count": 9,
      "outputs": []
    },
    {
      "cell_type": "code",
      "source": [
        "import time, math\n",
        "\n",
        "def time_since(since):\n",
        "    s = time.time() - since\n",
        "    m = math.floor(s / 60)\n",
        "    s -= m * 60\n",
        "    return '%dm %ds' % (m, s)"
      ],
      "metadata": {
        "id": "2FW5_3H2noMy"
      },
      "execution_count": 10,
      "outputs": []
    },
    {
      "cell_type": "code",
      "source": [
        "def train(inp, target):\n",
        "    hidden = decoder.init_hidden()\n",
        "    decoder.zero_grad()\n",
        "    loss = 0\n",
        "\n",
        "    for c in range(chunk_len):\n",
        "        output, hidden = decoder(inp[c], hidden)\n",
        "        loss += criterion(output, target[c].unsqueeze(0))\n",
        "\n",
        "    loss.backward()\n",
        "    decoder_optimizer.step()\n",
        "\n",
        "    return loss.data.item() / chunk_len"
      ],
      "metadata": {
        "id": "IeiPcirPnsJb"
      },
      "execution_count": 11,
      "outputs": []
    },
    {
      "cell_type": "code",
      "source": [
        "n_epochs = 2000\n",
        "print_every = 100\n",
        "plot_every = 10\n",
        "hidden_size = 100\n",
        "n_layers = 1\n",
        "lr = 0.005\n",
        "\n",
        "decoder = Vanilla(n_characters, hidden_size, n_characters, n_layers)\n",
        "decoder_optimizer = torch.optim.Adam(decoder.parameters(), lr=lr)\n",
        "criterion = nn.CrossEntropyLoss()\n",
        "\n",
        "start = time.time()\n",
        "all_losses = []\n",
        "loss_avg = 0\n",
        "\n",
        "for epoch in range(1, n_epochs + 1):\n",
        "    inp, target = random_training_set()\n",
        "    loss = train(inp,target)       \n",
        "    loss_avg += loss\n",
        "\n",
        "    if epoch % print_every == 0:\n",
        "        print('[%s (%d %d%%) %.4f]' % (time_since(start), epoch, epoch / n_epochs * 100, loss))\n",
        "        print(evaluate('Wh', 100), '\\n')\n",
        "\n",
        "    if epoch % plot_every == 0:\n",
        "        all_losses.append(loss_avg / plot_every)\n",
        "        loss_avg = 0"
      ],
      "metadata": {
        "colab": {
          "base_uri": "https://localhost:8080/"
        },
        "id": "dZHwEHGinw8N",
        "outputId": "41544adf-9b09-4179-c62e-53114b32d0e7"
      },
      "execution_count": 12,
      "outputs": [
        {
          "output_type": "stream",
          "name": "stderr",
          "text": [
            "/usr/local/lib/python3.8/dist-packages/torch/nn/modules/rnn.py:67: UserWarning: dropout option adds dropout after all but last recurrent layer, so non-zero dropout expects num_layers greater than 1, but got dropout=0.2 and num_layers=1\n",
            "  warnings.warn(\"dropout option adds dropout after all but last \"\n"
          ]
        },
        {
          "output_type": "stream",
          "name": "stdout",
          "text": [
            "[0m 17s (100 5%) 2.4851]\n",
            "Why madan I and of mans fin cor yous my meips ard toe and hallt tads mod saseer hend youll make ans fa \n",
            "\n",
            "[0m 30s (200 10%) 2.4326]\n",
            "Whour ourlere: ther fithisester fof-mastast thers il my ond youedr.\n",
            "\n",
            "MARUHI\n",
            "M:\n",
            "A heron enreingalh in b \n",
            "\n",
            "[0m 42s (300 15%) 2.3210]\n",
            "Whast?\n",
            "\n",
            "DUCE: MThen bames cumes. wherved need helver thanushy enst'llo thed frone sten mon his, hither \n",
            "\n",
            "[0m 55s (400 20%) 2.1778]\n",
            "Whad I venpof hat ande ffithe der the thealas noth may andars.\n",
            "\n",
            "KATBUCETETHANE:\n",
            "Yo the wimt of the ar  \n",
            "\n",
            "[1m 7s (500 25%) 2.1516]\n",
            "Whoft and shands wast ut and to the the our the hord hands you rest cares:\n",
            "I sme of look. jith ingey b \n",
            "\n",
            "[1m 22s (600 30%) 1.8718]\n",
            "Wheed the priel here to dee wary have shou of I hime pimeat he day so dood, his lind he gore ir the d. \n",
            "\n",
            "[1m 35s (700 35%) 2.1511]\n",
            "Whicinged and bere bears come of by youl in thut in sonds well I in the sell Losly on miness now his b \n",
            "\n",
            "[1m 47s (800 40%) 2.2642]\n",
            "Wht bo not sthe grot wear love tow the his diand faard.\n",
            "\n",
            "Tither pan brele of this grow ment thow in be \n",
            "\n",
            "[2m 0s (900 45%) 2.1486]\n",
            "What you wate hcese terh in sta fean fupbord Juld will he the cot for your lrod his ill the frie swate \n",
            "\n",
            "[2m 12s (1000 50%) 2.3921]\n",
            "Whorn fhat hamgus doashorie youn's come for to the why; and in faise mame farre fa hith proen.\n",
            "\n",
            "Ponth  \n",
            "\n",
            "[2m 25s (1100 55%) 2.3758]\n",
            "Whordir army, I a strantors, 'I crother we met, and doods, and for so hoes the save do loy lorniet;\n",
            "An \n",
            "\n",
            "[2m 37s (1200 60%) 1.8969]\n",
            "Whath Manden then her not,\n",
            "Whre store, the cear,\n",
            "I he let not porst! it, thou;'s wonk her the have,\n",
            "An \n",
            "\n",
            "[2m 49s (1300 65%) 2.2611]\n",
            "What fleppe Por the gring mone, bith why of hard,\n",
            "lo main and ingl bone to here and to man be of this  \n",
            "\n",
            "[3m 1s (1400 70%) 1.9147]\n",
            "What he whe sorn.\n",
            "\n",
            "METHY:\n",
            "And I whall my the call our sease, I will that gledondo hy fuunow\n",
            "Yim no sou \n",
            "\n",
            "[3m 13s (1500 75%) 2.2551]\n",
            "Wher, I a wixe woult now most the to this thick rlake you word Ropehn you heart it thou have you, the  \n",
            "\n",
            "[3m 26s (1600 80%) 1.9681]\n",
            "What deat unourth to pored not himst gour none;\n",
            "Mow behe eem not.\n",
            "\n",
            "Fall me;\n",
            "Fnow ; but mey;\n",
            "For seo.\n",
            "\n",
            " \n",
            "\n",
            "[3m 38s (1700 85%) 2.0806]\n",
            "Whar to thir seven that sads the diene:\n",
            "Doctand loving graldelf of we the wide of the king bear you ci \n",
            "\n",
            "[3m 51s (1800 90%) 1.7949]\n",
            "Wheef I have, I litle! an me; bere expon pitune thou he pames, an me that lilpon thour that to is the  \n",
            "\n",
            "[4m 3s (1900 95%) 2.0545]\n",
            "What to him\n",
            "Of catue your kening Reenst to mewgre to pioker me witregeto-no! in norls,\n",
            "What say in Mar \n",
            "\n",
            "[4m 16s (2000 100%) 2.0742]\n",
            "Whiratteder, the most the of there the come themons hostidion and love, mit now a besters ome more the \n",
            "\n"
          ]
        }
      ]
    },
    {
      "cell_type": "code",
      "source": [
        "import matplotlib.pyplot as plt\n",
        "import matplotlib.ticker as ticker\n",
        "%matplotlib inline\n",
        "\n",
        "plt.figure()\n",
        "plt.plot(all_losses)\n",
        "plt.title('Vanilla RNN - Loss Plot')"
      ],
      "metadata": {
        "colab": {
          "base_uri": "https://localhost:8080/",
          "height": 298
        },
        "id": "03DFuL-Wn0zE",
        "outputId": "13e25714-5539-4007-8efc-03f40a4724fc"
      },
      "execution_count": 13,
      "outputs": [
        {
          "output_type": "execute_result",
          "data": {
            "text/plain": [
              "Text(0.5, 1.0, 'Vanilla RNN - Loss Plot')"
            ]
          },
          "metadata": {},
          "execution_count": 13
        },
        {
          "output_type": "display_data",
          "data": {
            "text/plain": [
              "<Figure size 432x288 with 1 Axes>"
            ],
            "image/png": "[encoded data removed]"
          },
          "metadata": {
            "needs_background": "light"
          }
        }
      ]
    },
    {
      "cell_type": "code",
      "source": [
        "print(evaluate('Th', 200, temperature=0.8))"
      ],
      "metadata": {
        "colab": {
          "base_uri": "https://localhost:8080/"
        },
        "id": "q1APZmFdn3Th",
        "outputId": "5d46255d-8508-42dc-a949-87583d73f0c1"
      },
      "execution_count": 14,
      "outputs": [
        {
          "output_type": "stream",
          "name": "stdout",
          "text": [
            "Thild thee;\n",
            "Mardy in from:\n",
            "Westeet hehe come frople loldies,\n",
            "Wrady;\n",
            "Now it wrall that I hast use prom come, hald, chingul sandect; the him the dechat then well be your nom bid ganous take of; of have se\n"
          ]
        }
      ]
    },
    {
      "cell_type": "code",
      "source": [
        "print(evaluate('Th', 200, temperature=0.2))"
      ],
      "metadata": {
        "colab": {
          "base_uri": "https://localhost:8080/"
        },
        "id": "6f-0dqi-n51-",
        "outputId": "2f599073-0dee-407c-f522-162b6c589121"
      },
      "execution_count": 15,
      "outputs": [
        {
          "output_type": "stream",
          "name": "stdout",
          "text": [
            "This the bear the him the comes a mark heart mart and and the come your the come be your thee are a dood the the but be more the there the comes the the the promes the hath and thee hath the beat and ma\n"
          ]
        }
      ]
    },
    {
      "cell_type": "code",
      "source": [
        "print(evaluate('Th', 200, temperature=1.4))"
      ],
      "metadata": {
        "colab": {
          "base_uri": "https://localhost:8080/"
        },
        "id": "f-g0lA1Eq4an",
        "outputId": "cbe012d3-7310-41d3-f930-9ead190d2554"
      },
      "execution_count": 16,
      "outputs": [
        {
          "output_type": "stream",
          "name": "stdout",
          "text": [
            "Thull than lquio nlubvehs Kind d-quich? teet,-Gack, Pade'ys,\n",
            "Cich nimbest your Tpilkwarrs\n",
            "And nakh?' teticrih an mowheneringe come\n",
            "Buspnu`x muwbuld twornb, Niclo\n",
            "Hordch:\n",
            "Whimice.\n",
            "Eo, wellach,' the cFor \n"
          ]
        }
      ]
    },
    {
      "cell_type": "markdown",
      "source": [
        "GRU RNN:\n",
        "\n",
        "The training loss for the GRU RNN is lower than the Vanilla RNN. The training loss for the Vanilla RNN is around 2.0, while the training loss for the GRU RNN is around 1.75, so the GRU RNN performs slightly better. The sample predictions are also slightly more realistic. When comparing the temperature of 0.8, the Vanilla RNN is producing a lot less real words than the GRU RNN, where most of the words are real but are not comprehensible when put together. For both, the temperature of 0.8 produces the best predictions while 0.2 repeats the same words and 1.4 does not produce legible text."
      ],
      "metadata": {
        "id": "ix_einKEq-q5"
      }
    },
    {
      "cell_type": "code",
      "source": [
        "n_epochs = 2000\n",
        "print_every = 100\n",
        "plot_every = 10\n",
        "hidden_size = 100\n",
        "n_layers = 1\n",
        "lr = 0.005\n",
        "\n",
        "decoder = GRU(n_characters, hidden_size, n_characters, n_layers)\n",
        "decoder_optimizer = torch.optim.Adam(decoder.parameters(), lr=lr)\n",
        "criterion = nn.CrossEntropyLoss()\n",
        "\n",
        "start = time.time()\n",
        "all_losses = []\n",
        "loss_avg = 0\n",
        "\n",
        "for epoch in range(1, n_epochs + 1):\n",
        "    inp, target = random_training_set()\n",
        "    loss = train(inp,target)       \n",
        "    loss_avg += loss\n",
        "\n",
        "    if epoch % print_every == 0:\n",
        "        print('[%s (%d %d%%) %.4f]' % (time_since(start), epoch, epoch / n_epochs * 100, loss))\n",
        "        print(evaluate('Wh', 100), '\\n')\n",
        "\n",
        "    if epoch % plot_every == 0:\n",
        "        all_losses.append(loss_avg / plot_every)\n",
        "        loss_avg = 0"
      ],
      "metadata": {
        "colab": {
          "base_uri": "https://localhost:8080/"
        },
        "id": "Gwwa2KkHn-Sp",
        "outputId": "999b8788-c0a6-463f-a0d3-44a512c365e2"
      },
      "execution_count": 17,
      "outputs": [
        {
          "output_type": "stream",
          "name": "stdout",
          "text": [
            "[0m 17s (100 5%) 2.4506]\n",
            "Whe\n",
            "no wo bust weresty id lomer allis hithe met porer corusken Bith'y walce ainfe fis the.\n",
            "\n",
            "Fat youn a \n",
            "\n",
            "[0m 33s (200 10%) 2.2747]\n",
            "Whove of and;\n",
            "Y le, chat mond and nit condlet tho is is cuan hausrann\n",
            "Wichon supince lone bus say gond \n",
            "\n",
            "[0m 49s (300 15%) 2.1553]\n",
            "Why\n",
            "'Then an a\n",
            "A de well!\n",
            "I the ance mis mnets and blood the ar soo mave the the for meart, king men h \n",
            "\n",
            "[1m 5s (400 20%) 2.1836]\n",
            "Whave the to my alion.\n",
            "\n",
            "YORK:\n",
            "To wien wrought, thee, to shand, trene to that thy the was,\n",
            "Twon'd will  \n",
            "\n",
            "[1m 21s (500 25%) 2.0073]\n",
            "What this I the gretrest notme not.\n",
            "So drefore your my pried for of there shall With like or men for u \n",
            "\n",
            "[1m 37s (600 30%) 2.1036]\n",
            "Who give from I come, this his me his you crown good hat I thou he mepphit maiding.\n",
            "\n",
            "PTive. OF I prith \n",
            "\n",
            "[1m 52s (700 35%) 1.9168]\n",
            "What mad in player.\n",
            "\n",
            "PETRUCHIO:\n",
            "Whot in these's that here that fath ad gose\n",
            "And wat sill and well bori \n",
            "\n",
            "[2m 9s (800 40%) 1.8442]\n",
            "Whe bethert thing to supt to tome I our gearse,\n",
            "The had as your of the shal?\n",
            "Sayser; of her shander bu \n",
            "\n",
            "[2m 25s (900 45%) 2.0795]\n",
            "Which hath for they heardour her is in mes.\n",
            "\n",
            "AUSIO:\n",
            "The her was while! and bring myselliver parliege u \n",
            "\n",
            "[2m 41s (1000 50%) 1.8747]\n",
            "Whither, sir the father the king.\n",
            "Why his to the spore sation. Shame you an now the rake coumtinith ca \n",
            "\n",
            "[2m 57s (1100 55%) 1.6316]\n",
            "Wher to on to I, hust love!\n",
            "What the parers It so not an and shall the reath,\n",
            "White, we the achands th \n",
            "\n",
            "[3m 13s (1200 60%) 1.8819]\n",
            "Who our were my deees,\n",
            "From mock save my say, for bes, would she never to know;\n",
            "Woul the good thaik, a \n",
            "\n",
            "[3m 30s (1300 65%) 1.9318]\n",
            "What you looke.\n",
            "\n",
            "SICINIULE:\n",
            "And gue the cousnel.\n",
            "Lies I las fear, are on fain, Worthe the of quicerion \n",
            "\n",
            "[3m 46s (1400 70%) 1.8635]\n",
            "Where pices,\n",
            "And to stince, son with.\n",
            "\n",
            "LEO:\n",
            "And veaph they and daint of mmall them\n",
            "The some dread of m \n",
            "\n",
            "[4m 3s (1500 75%) 1.9470]\n",
            "Whith ou ence, be\n",
            "But his him! have and him\n",
            "In is sleaud hath, thaming.\n",
            "\n",
            "CORIOLANUS:\n",
            "So plays of this  \n",
            "\n",
            "[4m 19s (1600 80%) 1.9171]\n",
            "Which have come hour and fold,\n",
            "And hood seathon not her reamarefun: foth, 'tis hear prown\n",
            "For have mor \n",
            "\n",
            "[4m 36s (1700 85%) 1.7105]\n",
            "Whir reverv's and Rome:\n",
            "Gretter since, all and the love sianct\n",
            "Beather Longars leath though the memes: \n",
            "\n",
            "[4m 51s (1800 90%) 1.8768]\n",
            "Which mabe han well, count!\n",
            "\n",
            "COMINIUS:\n",
            "He,\n",
            "Scout, lad son the harch even sleceved,\n",
            "Leve awn the bance  \n",
            "\n",
            "[5m 7s (1900 95%) 1.6343]\n",
            "Whop is heart my on!\n",
            "\n",
            "PROMEO:\n",
            "I cousefoll me fear with hearts whene,\n",
            "And my ponence surshed your facko \n",
            "\n",
            "[5m 23s (2000 100%) 1.3720]\n",
            "Who conters wime you.\n",
            "\n",
            "LARENCE:\n",
            "Boving much, I kingred you will stable all engernosongs commanforl, go \n",
            "\n"
          ]
        }
      ]
    },
    {
      "cell_type": "code",
      "source": [
        "import matplotlib.pyplot as plt\n",
        "import matplotlib.ticker as ticker\n",
        "%matplotlib inline\n",
        "\n",
        "plt.figure()\n",
        "plt.plot(all_losses)\n",
        "plt.title('GRU RNN - Loss Plot')"
      ],
      "metadata": {
        "colab": {
          "base_uri": "https://localhost:8080/",
          "height": 298
        },
        "id": "2hbdKRTNoBQ7",
        "outputId": "3eab26dd-b54e-47cb-ae06-2dcc55458bde"
      },
      "execution_count": 18,
      "outputs": [
        {
          "output_type": "execute_result",
          "data": {
            "text/plain": [
              "Text(0.5, 1.0, 'GRU RNN - Loss Plot')"
            ]
          },
          "metadata": {},
          "execution_count": 18
        },
        {
          "output_type": "display_data",
          "data": {
            "text/plain": [
              "<Figure size 432x288 with 1 Axes>"
            ],
            "image/png": "[encoded data removed]"
          },
          "metadata": {
            "needs_background": "light"
          }
        }
      ]
    },
    {
      "cell_type": "code",
      "source": [
        "print(evaluate('Th', 200, temperature=0.8))"
      ],
      "metadata": {
        "colab": {
          "base_uri": "https://localhost:8080/"
        },
        "id": "eLqQw3RAoDff",
        "outputId": "e02d630d-5fa2-403e-eb6f-57237ef01732"
      },
      "execution_count": 19,
      "outputs": [
        {
          "output_type": "stream",
          "name": "stdout",
          "text": [
            "That a sid,\n",
            "Murst a lieching thy till.\n",
            "\n",
            "KING EDWARD IV:\n",
            "Waratly, and shall to treep the, ing comforse a bewered\n",
            "To thage such the worder and should an thou connow, the daid\n",
            "Thaser of my so so Dibless is\n"
          ]
        }
      ]
    },
    {
      "cell_type": "code",
      "source": [
        "print(evaluate('Th', 200, temperature=0.2))"
      ],
      "metadata": {
        "colab": {
          "base_uri": "https://localhost:8080/"
        },
        "id": "hLhMcNCKoHWo",
        "outputId": "3621fa6f-e1fe-420d-c71d-4c1d5c971fb1"
      },
      "execution_count": 20,
      "outputs": [
        {
          "output_type": "stream",
          "name": "stdout",
          "text": [
            "Thand the were the mand,\n",
            "To shall and and the will and your strove and some to make the shollow and your comest and and the reave the will and your and to my lord,\n",
            "The should a some and make the good an\n"
          ]
        }
      ]
    },
    {
      "cell_type": "code",
      "source": [
        "print(evaluate('Th', 200, temperature=1.4))"
      ],
      "metadata": {
        "colab": {
          "base_uri": "https://localhost:8080/"
        },
        "id": "XRQ_8eoyoJ5Q",
        "outputId": "bec16785-902f-46bd-f9c7-ea5946e53107"
      },
      "execution_count": 21,
      "outputs": [
        {
          "output_type": "stream",
          "name": "stdout",
          "text": [
            "This ar yie nobe,\n",
            "Dived bid al:\n",
            "Rome you: and Swrown; warderremonter'd; nokis fore shall.\n",
            "Shen baning, Enre,\n",
            "Hys the brome your unrius:\n",
            "That my glaivel then yemptand arief;\n",
            "From teil!\n",
            "I decep tius a'tri\n"
          ]
        }
      ]
    },
    {
      "cell_type": "code",
      "source": [
        "file = open('drive/MyDrive/pg.txt', mode='r').read()\n",
        "file = ' '.join(re.sub('[^A-Za-z ]+', '', file).split())\n",
        "file_len = len(file)\n",
        "print('Length of text: {} characters'.format(len(file)))"
      ],
      "metadata": {
        "colab": {
          "base_uri": "https://localhost:8080/"
        },
        "id": "WWGH1HtEoMnV",
        "outputId": "b9a6f057-8ee4-4646-83ae-aa60b991ce8e"
      },
      "execution_count": 24,
      "outputs": [
        {
          "output_type": "stream",
          "name": "stdout",
          "text": [
            "Length of text: 48676 characters\n"
          ]
        }
      ]
    },
    {
      "cell_type": "markdown",
      "source": [
        "Paul Graham Essay:\n",
        "\n",
        "The training loss for the Paul Graham Essay data is the lowest, with a loss of around 1.0. I ran the GRU RNN on the Paul Graham Essay data, so this data is performing better than the Shakespeare data. "
      ],
      "metadata": {
        "id": "sYMZik0y3meb"
      }
    },
    {
      "cell_type": "code",
      "source": [
        "n_epochs = 2000\n",
        "print_every = 100\n",
        "plot_every = 10\n",
        "hidden_size = 100\n",
        "n_layers = 1\n",
        "lr = 0.005\n",
        "\n",
        "decoder = GRU(n_characters, hidden_size, n_characters, n_layers)\n",
        "decoder_optimizer = torch.optim.Adam(decoder.parameters(), lr=lr)\n",
        "criterion = nn.CrossEntropyLoss()\n",
        "\n",
        "start = time.time()\n",
        "all_losses = []\n",
        "loss_avg = 0\n",
        "\n",
        "for epoch in range(1, n_epochs + 1):\n",
        "    inp, target = random_training_set()\n",
        "    loss = train(inp,target)       \n",
        "    loss_avg += loss\n",
        "\n",
        "    if epoch % print_every == 0:\n",
        "        print('[%s (%d %d%%) %.4f]' % (time_since(start), epoch, epoch / n_epochs * 100, loss))\n",
        "        print(evaluate('Wh', 100), '\\n')\n",
        "\n",
        "    if epoch % plot_every == 0:\n",
        "        all_losses.append(loss_avg / plot_every)\n",
        "        loss_avg = 0"
      ],
      "metadata": {
        "colab": {
          "base_uri": "https://localhost:8080/"
        },
        "id": "s4rQFrRuoOlB",
        "outputId": "961b1117-327f-4ffd-d387-340404444b2e"
      },
      "execution_count": 25,
      "outputs": [
        {
          "output_type": "stream",
          "name": "stdout",
          "text": [
            "[0m 15s (100 5%) 1.8507]\n",
            "Whetime preartucther intang the sto sed th the startum ding of fos lot memom a a the int the oure atn  \n",
            "\n",
            "[0m 32s (200 10%) 1.7520]\n",
            "When cob of is to be were to the would a peoppe a the see most peot the exed the lerd ide an the sotar \n",
            "\n",
            "[0m 49s (300 15%) 1.5112]\n",
            "Why have the woce dony about ao who do is startup you can loul aboud a lo componess succicase more who \n",
            "\n",
            "[1m 5s (400 20%) 1.5755]\n",
            "Wher to seem you may yide of donting who smas betitu some is the of ung BCction a startups by brvience \n",
            "\n",
            "[1m 21s (500 25%) 1.7887]\n",
            "Wh is be teplers the if the startup extent on experiengel with the rose a could be the rising thas the \n",
            "\n",
            "[1m 37s (600 30%) 1.5553]\n",
            "When to do problem a sepe working ont the company and the someth Them working your in they have not th \n",
            "\n",
            "[1m 53s (700 35%) 1.4622]\n",
            "Whe with I world would be company to surpries money decided first that company to worked on the othen  \n",
            "\n",
            "[2m 9s (800 40%) 1.3119]\n",
            "Whe you make imect diend it whers to startup its a startup is with way to startups Its calsuce any the \n",
            "\n",
            "[2m 25s (900 45%) 1.4871]\n",
            "Whe same the something it theyre excoust experaplicause the for just that cast says and a startups you \n",
            "\n",
            "[2m 41s (1000 50%) 1.0572]\n",
            "When you startan four neader all the preching you just what who raise about an theyre prets fangers an \n",
            "\n",
            "[2m 59s (1100 55%) 1.3789]\n",
            "When been invest a companies a people we can lothe sure company swho dind to rum to start prediguson t \n",
            "\n",
            "[3m 15s (1200 60%) 1.2807]\n",
            "When youre could get theyre case When you dont of inced up is that avious make as big problem and the  \n",
            "\n",
            "[3m 31s (1300 65%) 1.3627]\n",
            "When you have a nest in the programmple work on the such money people with start to start to from the  \n",
            "\n",
            "[3m 46s (1400 70%) 1.5674]\n",
            "Where the problems that able them money we dacnto surt thing in them probably dange end the lake diffe \n",
            "\n",
            "[4m 2s (1500 75%) 1.5103]\n",
            "Where to secon a startundrsing of the sale working the company and wich do it The perp you have the sa \n",
            "\n",
            "[4m 17s (1600 80%) 0.8965]\n",
            "Whell first they alperiepfer way to will be like ever youre not to start to do theyre also have to mak \n",
            "\n",
            "[4m 33s (1700 85%) 1.4710]\n",
            "When there produce So you And you have to want the people when you labliople for dedient fallef anythi \n",
            "\n",
            "[4m 48s (1800 90%) 1.1909]\n",
            "When youre not If yered the growe to be the companiess Dont not to to are a somethince and it the sort \n",
            "\n",
            "[5m 4s (1900 95%) 1.2334]\n",
            "Whe the one working loug the purogrammers in thing the same a but if they have seem to be them them th \n",
            "\n",
            "[5m 19s (2000 100%) 1.1023]\n",
            "Whene you have to start been not the world in theyre not its a starnisize idea get investors woraising \n",
            "\n"
          ]
        }
      ]
    },
    {
      "cell_type": "code",
      "source": [
        "import matplotlib.pyplot as plt\n",
        "import matplotlib.ticker as ticker\n",
        "%matplotlib inline\n",
        "\n",
        "plt.figure()\n",
        "plt.plot(all_losses)\n",
        "plt.title('Paul Graham Essays with GRU RNN - Loss Plot')"
      ],
      "metadata": {
        "colab": {
          "base_uri": "https://localhost:8080/",
          "height": 298
        },
        "id": "lFjDW7WwoWbs",
        "outputId": "56cbf221-6aba-480a-c340-9804745e4e9c"
      },
      "execution_count": 26,
      "outputs": [
        {
          "output_type": "execute_result",
          "data": {
            "text/plain": [
              "Text(0.5, 1.0, 'Paul Graham Essays with GRU RNN - Loss Plot')"
            ]
          },
          "metadata": {},
          "execution_count": 26
        },
        {
          "output_type": "display_data",
          "data": {
            "text/plain": [
              "<Figure size 432x288 with 1 Axes>"
            ],
            "image/png": "[encoded data removed]"
          },
          "metadata": {
            "needs_background": "light"
          }
        }
      ]
    },
    {
      "cell_type": "code",
      "source": [
        "print(evaluate('Th', 200, temperature=0.8))"
      ],
      "metadata": {
        "colab": {
          "base_uri": "https://localhost:8080/"
        },
        "id": "M5czaXpZobJ1",
        "outputId": "8bfb419f-5617-4ef1-f684-94d43af00d89"
      },
      "execution_count": 31,
      "outputs": [
        {
          "output_type": "stream",
          "name": "stdout",
          "text": [
            "The probably advant you wathy kerely as are to programmers a consuble to be about the going to be a bat expertentions about the patples the problem what youre fordicould to be dont of sign its a seem to\n"
          ]
        }
      ]
    },
    {
      "cell_type": "code",
      "source": [
        "print(evaluate('Th', 200, temperature=0.2))"
      ],
      "metadata": {
        "colab": {
          "base_uri": "https://localhost:8080/"
        },
        "id": "PVL8-hVZodDO",
        "outputId": "9e08ebc5-8e00-4a15-b03f-8d9d69195442"
      },
      "execution_count": 28,
      "outputs": [
        {
          "output_type": "stream",
          "name": "stdout",
          "text": [
            "The problem them been the something the problem well the world and the problem were the startup is a supposed them the most people when you have to all the problem of the world a supposed to be them bet\n"
          ]
        }
      ]
    },
    {
      "cell_type": "code",
      "source": [
        "print(evaluate('Th', 200, temperature=1.4))"
      ],
      "metadata": {
        "colab": {
          "base_uri": "https://localhost:8080/"
        },
        "id": "Cuj44Kakoe87",
        "outputId": "5193e76e-77d2-4414-9bbd-426fbf80bbf7"
      },
      "execution_count": 29,
      "outputs": [
        {
          "output_type": "stream",
          "name": "stdout",
          "text": [
            "Than they cad experine them programuang surprttly them eveghach comeppted them coupts a arik at smalleters sidce than can exest perum Anyrels woldfers findrvy qourve whech makes gets you hard can a nubi\n"
          ]
        }
      ]
    }
  ]
}