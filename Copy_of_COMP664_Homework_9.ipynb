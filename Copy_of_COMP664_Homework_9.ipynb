{
  "nbformat": 4,
  "nbformat_minor": 0,
  "metadata": {
    "colab": {
      "provenance": []
    },
    "kernelspec": {
      "name": "python3",
      "display_name": "Python 3"
    },
    "language_info": {
      "name": "python"
    },
    "gpuClass": "standard",
    "accelerator": "GPU"
  },
  "cells": [
    {
      "cell_type": "markdown",
      "metadata": {
        "id": "Ovi3rNd9BeZ4"
      },
      "source": [
        "# Homework 9\n",
        "\n",
        "In this homework, you will be using a form of attention called *attention pooling* to solve the \"addition problem\". The addition problem was introduced in the [LSTM paper](https://www.bioinf.jku.at/publications/older/2604.pdf) as a way to test whether an RNN could propagate information across many time steps. In the addition problem, the model is given a sequence of 2D vectors in the format:\n",
        "\n",
        "|     |      |     |     |      |     |      |     |     |     |     |\n",
        "|-----|------|-----|-----|------|-----|------|-----|-----|-----|-----|\n",
        "| 0.5 | -0.7 | 0.3 | 0.1 | -0.2 | ... | -0.5 | 0.9 | ... | 0.8 | 0.2 |\n",
        "| 0   |   0  |  1  |  0  |   0  |     |   0  |  1  |     |  0  |  0  |\n",
        "\n",
        "The first dimension of each vector in the sequence is a random number between 0 and 1. The second dimension is 0 for all entries of the sequence expect for 2, where it is 1. The goal of the addition problem is to output the sum of the values in the first dimension at the two indices where the second dimension is 1. In the example above, the target would be 0.9 + 0.3 = 1.2. Below is a code snippet that generates a sequence and its target for the addition problem."
      ]
    },
    {
      "cell_type": "code",
      "metadata": {
        "id": "r42nn-jOxhKp"
      },
      "source": [
        "import numpy as np\n",
        "\n",
        "def addition_problem(sequence_length=50):\n",
        "    output = np.random.uniform(-1, 1, (sequence_length, 2))\n",
        "    output[:, 0] = 0.\n",
        "    random_indices = np.random.choice(sequence_length, size=2, replace=False)\n",
        "    output[random_indices, [0, 0]] = 1\n",
        "    return output, (output[:, 0]*output[:, 1]).sum(keepdims=True)"
      ],
      "execution_count": null,
      "outputs": []
    },
    {
      "cell_type": "markdown",
      "metadata": {
        "id": "Ew0FypwYCwpn"
      },
      "source": [
        "Attention pooling is a form of attention that allows a model to solve the addition problem without using an RNN. In attention pooling, the query vector $q$ is a *learnable parameter*. The keys and values are both the input sequence. Specifically, given a sequence $\\{h_1, h_2, \\ldots, h_T\\}$, attention pooling computes\n",
        "\\begin{align}\n",
        "e_t &= \\mathrm{a}(q, h_t) \\\\\n",
        "\\alpha_t &= \\frac{\\exp(e_t)}{\\sum_k \\exp(e_k)} \\\\\n",
        "c &= \\sum_{t = 1}^T \\alpha_t h_t\n",
        "\\end{align}\n",
        "where $\\mathrm{a}(q, h_t)$ is the attention energy function. Note that c will always be a fixed-length vector (which amounts to a weighted average of the elements of the sequence $h$) regardless of how long the sequence is (i.e. the value of $T$). $\\mathrm{a}(q, h_t)$ can be any function that takes in a single entry of the sequence $h_t$ and outputs an unnormalizes scalar value. One option is to use\n",
        "$$\\mathrm{a}(q, h_t) = q^\\top \\tanh(W_a h_t + b_a)$$\n",
        "where $q \\in \\mathbb{R}^q$, $W_a \\in \\mathbb{R}^{q \\times d}$, and $b_a \\in \\mathbb{R}^q$ are learnable parameters, and $d$ is the dimensionality of $h_t$ (i.e. $h_t \\in \\mathbb{R}^d$).\n",
        "\n",
        "\n",
        "1. Build and train a neural network that uses attention pooling to solve the addition problem. The model should output a scalar which corresponds to the target value for the addition problem (i.e. the sum of the sequence entries that are marked with a \"1\"). Here, \"solved\" means that the squared error of the model's predicitons is always below $0.05$. Use a sequence length of $50$ (which is the default for the `addition_problem` function defined above). *Hints*:\n",
        "  1. This is a regression problem. Your model should predict a continuous scalar value and you can use a squared-error loss.\n",
        "  1. The point of the attention pooling layer is to allow you to put it in an otherwise feed-forward network. So, consider just using simple dense feed-forward layers before and/or after the attention pooling layer. To start, you can try the architecture: feed-forward, attention pooling, feed-forward, output layer.\n",
        "  1. If you are finding that the model is getting stuck at a non-zero squared error, it could be that it's just outputting the mean value and having trouble learning a good solution. Try different initialization, nonlinearities, architecture, learning rate, etc.\n",
        "1. Once you have trained a model that gets solid performance at sequence length $50$, plot the model's average squared error for sequence lengths $50, 55, 65, 80, 100, 125, 150$. You should generate this plot by averaging the squared error over at least $100$ sequences of a given length. Does the model's error get worse (go up) for longer sequences, or does it generalize to longer sequence lengths?"
      ]
    },
    {
      "cell_type": "code",
      "source": [
        "import torch\n",
        "import numpy as np\n",
        "from torch import nn, Tensor\n",
        "import matplotlib.pyplot as plt\n",
        "\n",
        "import warnings\n",
        "warnings.filterwarnings('ignore') \n",
        "\n",
        "device = \"cuda\" if torch.cuda.is_available() else \"mps\" if torch.backends.mps.is_available() else \"cpu\"\n",
        "print(f\"using {device} device\")\n",
        "\n",
        "class AdditiveAttention(nn.Module):\n",
        "    def __init__(self, q_len=5):\n",
        "        super().__init__()\n",
        "        self.q = nn.LazyLinear(1, bias=False)\n",
        "        self.attn = nn.Sequential(nn.LazyLinear(q_len), nn.Tanh())\n",
        "        self.softmax = nn.Softmax(dim=0)\n",
        "\n",
        "    def forward(self, x):\n",
        "        e = self.q(self.attn(x))\n",
        "        a = self.softmax(e)\n",
        "        c = torch.matmul(a.T, x)\n",
        "        return c\n",
        "\n",
        "# Define model\n",
        "class NeuralNetwork(nn.Module):\n",
        "    def __init__(self):\n",
        "        super().__init__()\n",
        "        self.attn = AdditiveAttention()\n",
        "        self.fc1 = nn.Sequential(nn.LazyLinear(10), nn.Tanh())\n",
        "        self.output = nn.LazyLinear(1)\n",
        "\n",
        "    def forward(self, x):\n",
        "        h1 = self.attn(x)\n",
        "        h2 = self.fc1(h1)\n",
        "        return self.output(h2)\n",
        "\n",
        "model = NeuralNetwork().to(device)\n",
        "\n",
        "loss_fn = nn.MSELoss()\n",
        "optimizer = torch.optim.SGD(model.parameters(), lr=1e-3)\n",
        "\n",
        "def train(model, loss_fn, optimizer, n=65000, running_mean=0):\n",
        "    running_loss = 0.0\n",
        "    ret_i = []\n",
        "    ret_loss = []\n",
        "    for i in range(n):\n",
        "        X, y = addition_problem()\n",
        "        X = torch.tensor(X).type(torch.float32).to(device)\n",
        "        y = torch.tensor(y).type(torch.float32).to(device)\n",
        "        optimizer.zero_grad()\n",
        "        outputs = model(X)\n",
        "        loss = loss_fn(outputs, y)\n",
        "        loss.backward()\n",
        "        optimizer.step()\n",
        "        running_loss += loss.item()\n",
        "        if i % 2000 == 1999:\n",
        "            ret_i.append(i)\n",
        "            ret_loss.append(running_loss / 2000)\n",
        "            running_loss = 0.0\n",
        "        \n",
        "    return ret_i, ret_loss"
      ],
      "metadata": {
        "colab": {
          "base_uri": "https://localhost:8080/"
        },
        "id": "SUwXHhRMtOFE",
        "outputId": "e1a775f6-f164-42a2-eeae-abf5b9271485"
      },
      "execution_count": null,
      "outputs": [
        {
          "output_type": "stream",
          "name": "stdout",
          "text": [
            "using cuda device\n"
          ]
        }
      ]
    },
    {
      "cell_type": "code",
      "source": [
        "## Train the model here\n",
        "i,loss = train(model, loss_fn, optimizer)"
      ],
      "metadata": {
        "id": "ATcHjSFB8YXK"
      },
      "execution_count": null,
      "outputs": []
    },
    {
      "cell_type": "code",
      "source": [
        "seq_lens = [50,55,65,80,100,125,150]\n",
        "import torch.nn.functional as F\n",
        "losses = []\n",
        "with torch.no_grad():\n",
        "  for s in seq_lens:\n",
        "    loss = 0\n",
        "    example = addition_problem(s)\n",
        "    X = torch.from_numpy(example[0]).float().to(device)\n",
        "    predictions = model(X)\n",
        "    loss = F.mse_loss(predictions, torch.from_numpy(example[1]).float().to(device)).detach().cpu().numpy()\n",
        "    losses.append(loss)\n",
        "    print(f'Seq Length:{s}, RMSE loss:{loss}')\n",
        "\n",
        "plt.figure()\n",
        "plt.plot(seq_lens, losses)\n",
        "plt.xlabel('Processed Sequences')\n",
        "plt.ylabel('RMSE Loss')  "
      ],
      "metadata": {
        "id": "fMVH3MmihoHT",
        "colab": {
          "base_uri": "https://localhost:8080/",
          "height": 636
        },
        "outputId": "196f0ad8-7767-4035-f04d-7f62faa580a0"
      },
      "execution_count": null,
      "outputs": [
        {
          "output_type": "stream",
          "name": "stdout",
          "text": [
            "Seq Length:50, RMSE loss:0.00014230614760890603\n",
            "Seq Length:55, RMSE loss:0.004691447596997023\n",
            "Seq Length:65, RMSE loss:0.021409302949905396\n",
            "Seq Length:80, RMSE loss:0.09629422426223755\n",
            "Seq Length:100, RMSE loss:0.14767888188362122\n",
            "Seq Length:125, RMSE loss:0.27974167466163635\n",
            "Seq Length:150, RMSE loss:0.6923030614852905\n"
          ]
        },
        {
          "output_type": "execute_result",
          "data": {
            "text/plain": [
              "Text(0, 0.5, 'RMSE Loss')"
            ]
          },
          "metadata": {},
          "execution_count": 29
        },
        {
          "output_type": "display_data",
          "data": {
            "text/plain": [
              "<Figure size 864x576 with 1 Axes>"
            ],
            "image/png": "[encoded data removed]"
          },
          "metadata": {
            "needs_background": "light"
          }
        }
      ]
    },
    {
      "cell_type": "markdown",
      "source": [
        "The model's root mean square error increases as the sequence length increases. At least in this sample, the trend is noticable. It seems that the model is overfitted, and doesn't generalize well on unseen data."
      ],
      "metadata": {
        "id": "U2bfPe2dFIJK"
      }
    }
  ]
}